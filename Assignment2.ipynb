{
  "nbformat": 4,
  "nbformat_minor": 0,
  "metadata": {
    "colab": {
      "provenance": []
    },
    "kernelspec": {
      "name": "python3",
      "display_name": "Python 3"
    },
    "language_info": {
      "name": "python"
    }
  },
  "cells": [
    {
      "cell_type": "code",
      "source": [
        "#1. Write a Python program to convert kilometers to miles?\n",
        "\n",
        "one_m = 1.6 \n",
        "\n",
        "km = float(input(\"Enter kilometers: \"))\n",
        "\n",
        "miles =  km/one_m\n",
        "\n",
        "print(f'{km} km is {miles} miles.')\n",
        "\n",
        "\n",
        "\n"
      ],
      "metadata": {
        "id": "Lbn4KzPThq7K"
      },
      "execution_count": null,
      "outputs": []
    },
    {
      "cell_type": "code",
      "source": [
        "#2. Write a Python program to convert Celsius to Fahrenheit?\n",
        "\n",
        "celsius = float(input(\"Enter teperature in Celsius: \"))\n",
        "\n",
        "\n",
        "fahrenheit = (celsius * 1.8) + 32 \n",
        "\n",
        "print(f'{celsius} degree celsius is {fahrenheit} fahrenheit.')\n"
      ],
      "metadata": {
        "id": "WLrNbAmAkcdT"
      },
      "execution_count": null,
      "outputs": []
    },
    {
      "cell_type": "code",
      "source": [
        "#3. Write a Python program to display calendar?\n",
        "\n",
        "import calendar\n",
        "\n",
        "yy = int(input(\"Enter year: \"))\n",
        "mm = int(input(\"Enter month: \"))\n",
        "\n",
        "\n",
        "print(calendar.month(yy, mm))"
      ],
      "metadata": {
        "id": "a3_V2XRklnhc"
      },
      "execution_count": null,
      "outputs": []
    },
    {
      "cell_type": "code",
      "source": [
        "#4. Write a Python program to solve quadratic equation?\n",
        "\n",
        "import cmath\n",
        "\n",
        "a = int(input('Enter a : '))\n",
        "b = int(input('Enter b : '))\n",
        "c = int(input('Enter c : '))\n",
        "\n",
        "\n",
        "d = (b**2) - (4*a*c)\n",
        "\n",
        "\n",
        "sol1 = (-b-cmath.sqrt(d))/(2*a)\n",
        "sol2 = (-b+cmath.sqrt(d))/(2*a)\n",
        "\n",
        "print('The solution are {0} and {1}'.format(sol1,sol2))"
      ],
      "metadata": {
        "id": "-4C7vSqNmIKt"
      },
      "execution_count": null,
      "outputs": []
    },
    {
      "cell_type": "code",
      "source": [
        "#5. Write a Python program to swap two variables without temp variable?\n",
        "\n",
        "a = int(input(\"Enter a number: \"))\n",
        "b = int(input('Enter another number: '))\n",
        "\n",
        "print(f'Before swap: {a,b}')\n",
        "\n",
        "b,a = a,b\n",
        "\n",
        "print(f'After swap: {a,b}')"
      ],
      "metadata": {
        "id": "oLeTDf3Gmunl"
      },
      "execution_count": null,
      "outputs": []
    }
  ]
}